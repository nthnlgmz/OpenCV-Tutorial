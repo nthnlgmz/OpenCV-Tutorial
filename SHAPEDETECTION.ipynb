{
  "nbformat": 4,
  "nbformat_minor": 0,
  "metadata": {
    "colab": {
      "provenance": [],
      "authorship_tag": "ABX9TyOeOwLOvzgmGngbWPwsR/QI",
      "include_colab_link": true
    },
    "kernelspec": {
      "name": "python3",
      "display_name": "Python 3"
    },
    "language_info": {
      "name": "python"
    }
  },
  "cells": [
    {
      "cell_type": "markdown",
      "metadata": {
        "id": "view-in-github",
        "colab_type": "text"
      },
      "source": [
        "<a href=\"https://colab.research.google.com/github/DMBysnGnzls/OpenCV-Tutorial/blob/main/SHAPEDETECTION.ipynb\" target=\"_parent\"><img src=\"https://colab.research.google.com/assets/colab-badge.svg\" alt=\"Open In Colab\"/></a>"
      ]
    },
    {
      "cell_type": "code",
      "source": [
        "!git clone https://github.com/misbah4064/opencvTutorial.git\n",
        "%cd opencvTutorial/\n",
        "from IPython.display import clear_output\n",
        "clear_output()"
      ],
      "metadata": {
        "id": "1kC_CfwXcKKj"
      },
      "execution_count": 4,
      "outputs": []
    },
    {
      "cell_type": "code",
      "source": [
        "import cv2\n",
        "import numpy as np\n",
        "from google.colab.patches import cv2_imshow\n",
        "\n",
        "img = cv2.imread(\"images/shapes.png\")\n",
        "gray = cv2.cvtColor(img,cv2.COLOR_BGR2GRAY)\n",
        "\n",
        "ret, thresh = cv2.threshold(gray,50,255,1)\n",
        "contours,h = cv2.findContours(thresh,1,2)\n",
        "# cv2_imshow(thresh)\n",
        "for cnt in contours:\n",
        "  approx = cv2.approxPolyDP(cnt,0.01*cv2.arcLength(cnt,True),True)\n",
        "  n = len(approx)\n",
        "  if n==6:\n",
        "    # this is a hexagon\n",
        "    print(\"We have a hexagon here\")\n",
        "    cv2.drawContours(img,[cnt],0,255,10)\n",
        "  elif n==3:\n",
        "    # this is a triangle\n",
        "    print(\"We found a triangle\")\n",
        "    cv2.drawContours(img,[cnt],0,(0,255,0),3)\n",
        "  elif n>9:\n",
        "    # this is a circle\n",
        "    print(\"We found a circle\")\n",
        "    cv2.drawContours(img,[cnt],0,(0,255,255),3)\n",
        "  elif n==4:\n",
        "    # this is a Square\n",
        "    print(\"We found a square\")\n",
        "    cv2.drawContours(img,[cnt],0,(255,255,0),3)\n",
        "cv2_imshow(img)"
      ],
      "metadata": {
        "colab": {
          "base_uri": "https://localhost:8080/",
          "height": 584
        },
        "id": "FYSrCiaGcKxz",
        "outputId": "ae99dd18-c480-40e7-88af-54bdfc880dfd"
      },
      "execution_count": 5,
      "outputs": [
        {
          "output_type": "stream",
          "name": "stdout",
          "text": [
            "We found a square\n",
            "We have a hexagon here\n",
            "We found a triangle\n",
            "We found a circle\n",
            "We found a square\n"
          ]
        },
        {
          "output_type": "display_data",
          "data": {
            "text/plain": [
              "<PIL.Image.Image image mode=RGB size=640x480>"
            ],
            "image/png": "[encoded data removed]"
          },
          "metadata": {}
        }
      ]
    }
  ]
}